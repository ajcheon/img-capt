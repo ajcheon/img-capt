{
 "cells": [
  {
   "cell_type": "code",
   "execution_count": 1,
   "metadata": {},
   "outputs": [],
   "source": [
    "import os\n",
    "import math\n",
    "import matplotlib.pyplot as plt\n",
    "import numpy as np\n",
    "import pandas as pd\n",
    "import pickle\n",
    "\n",
    "from PIL import Image\n",
    "from pathlib import Path\n",
    "from matplotlib.patches import Rectangle\n",
    "from scipy.io import loadmat\n",
    "\n",
    "from pathlib import Path\n",
    "import random\n",
    "\n",
    "import cv2\n",
    "import matplotlib.pyplot as plt \n",
    "from datetime import datetime\n",
    "from tqdm import tqdm"
   ]
  },
  {
   "cell_type": "code",
   "execution_count": 6,
   "metadata": {},
   "outputs": [],
   "source": [
    "PATH = Path('data')\n",
    "TRAIN_PATH = Path('data/train2017')\n",
    "VAL_PATH = Path('data/val2017')\n",
    "TEST_PATH = Path('data/test2017')"
   ]
  },
  {
   "cell_type": "markdown",
   "metadata": {},
   "source": [
    "### Image utils"
   ]
  },
  {
   "cell_type": "code",
   "execution_count": 3,
   "metadata": {},
   "outputs": [],
   "source": [
    "def read_image(path):\n",
    "    im = cv2.imread(str(path))\n",
    "    return cv2.cvtColor(im, cv2.COLOR_BGR2RGB)\n",
    "\n",
    "def resize_images(path, sz=200):\n",
    "    im = read_image(path)\n",
    "#     sz2 = int(1.778*sz)\n",
    "    return cv2.resize(im, (sz, sz))\n",
    "\n",
    "def resize_all_images(filepaths, new_path, sz=200):\n",
    "    \"\"\"\n",
    "    filepaths: POSIX paths of original images\n",
    "    new_path: POSIX directory path to store resized images\n",
    "    \"\"\"\n",
    "    new_path.mkdir(exist_ok=True)\n",
    "    for p in tqdm(filepaths):\n",
    "        filename = p.parts[-1]\n",
    "        im = resize_images(p, sz=sz)\n",
    "        cv2.imwrite(str(new_path/filename), cv2.cvtColor(im, cv2.COLOR_RGB2BGR))"
   ]
  },
  {
   "cell_type": "code",
   "execution_count": 4,
   "metadata": {},
   "outputs": [
    {
     "name": "stderr",
     "output_type": "stream",
     "text": [
      "100%|██████████| 118287/118287 [20:11<00:00, 97.66it/s] \n"
     ]
    }
   ],
   "source": [
    "train_paths = list(TRAIN_PATH.iterdir())\n",
    "new_path = PATH/'train2017_resized'\n",
    "resize_all_images(train_paths, new_path)"
   ]
  },
  {
   "cell_type": "code",
   "execution_count": 5,
   "metadata": {},
   "outputs": [
    {
     "name": "stderr",
     "output_type": "stream",
     "text": [
      "100%|██████████| 5000/5000 [00:51<00:00, 97.23it/s] \n"
     ]
    }
   ],
   "source": [
    "val_paths = list(VAL_PATH.iterdir())\n",
    "new_path = PATH/'val2017_resized'\n",
    "resize_all_images(val_paths, new_path)"
   ]
  },
  {
   "cell_type": "code",
   "execution_count": 7,
   "metadata": {},
   "outputs": [
    {
     "name": "stderr",
     "output_type": "stream",
     "text": [
      "100%|██████████| 40670/40670 [06:50<00:00, 99.05it/s] \n"
     ]
    }
   ],
   "source": [
    "test_paths = list(TEST_PATH.iterdir())\n",
    "new_path = PATH/'test2017_resized'\n",
    "resize_all_images(test_paths, new_path)"
   ]
  }
 ],
 "metadata": {
  "kernelspec": {
   "display_name": "Environment (conda_pytorch_p36)",
   "language": "python",
   "name": "conda_pytorch_p36"
  },
  "language_info": {
   "codemirror_mode": {
    "name": "ipython",
    "version": 3
   },
   "file_extension": ".py",
   "mimetype": "text/x-python",
   "name": "python",
   "nbconvert_exporter": "python",
   "pygments_lexer": "ipython3",
   "version": "3.6.10"
  }
 },
 "nbformat": 4,
 "nbformat_minor": 4
}
