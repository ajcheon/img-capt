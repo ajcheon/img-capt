{
 "cells": [
  {
   "cell_type": "code",
   "execution_count": 1,
   "metadata": {},
   "outputs": [],
   "source": [
    "import os\n",
    "import math\n",
    "import matplotlib.pyplot as plt\n",
    "import numpy as np\n",
    "import pandas as pd\n",
    "import pickle\n",
    "\n",
    "from pycocotools.coco import COCO\n",
    "\n",
    "from PIL import Image\n",
    "from pathlib import Path\n",
    "from matplotlib.patches import Rectangle\n",
    "from scipy.io import loadmat\n",
    "\n",
    "import torch\n",
    "from pathlib import Path\n",
    "from torch.utils.data import Dataset, DataLoader\n",
    "import torch.optim as optim\n",
    "import torch.nn as nn\n",
    "import torch.nn.functional as F\n",
    "from torch.nn.utils.rnn import pack_padded_sequence\n",
    "from torchvision import models\n",
    "import random\n",
    "import re\n",
    "from collections import Counter\n",
    "import spacy\n",
    "\n",
    "import cv2\n",
    "import matplotlib.pyplot as plt \n",
    "from datetime import datetime\n",
    "from tqdm import tqdm\n",
    "\n",
    "from nltk.translate.bleu_score import sentence_bleu, SmoothingFunction"
   ]
  },
  {
   "cell_type": "code",
   "execution_count": 2,
   "metadata": {},
   "outputs": [],
   "source": [
    "PATH = Path('data')\n",
    "ANNOT_PATH = Path('data/annotations')"
   ]
  },
  {
   "cell_type": "markdown",
   "metadata": {},
   "source": [
    "### COCO utils"
   ]
  },
  {
   "cell_type": "code",
   "execution_count": 3,
   "metadata": {},
   "outputs": [],
   "source": [
    "def get_caption_index(annot_path, dataset='train', year=2017):\n",
    "    annot_file = annot_path/f'captions_{dataset}{year}.json'\n",
    "    return COCO(annot_file)"
   ]
  },
  {
   "cell_type": "markdown",
   "metadata": {},
   "source": [
    "### Image utils"
   ]
  },
  {
   "cell_type": "code",
   "execution_count": 4,
   "metadata": {},
   "outputs": [],
   "source": [
    "def read_image(path):\n",
    "    im = cv2.imread(str(path))\n",
    "    return cv2.cvtColor(im, cv2.COLOR_BGR2RGB)\n",
    "\n",
    "def crop(im, r, c, target_r, target_c):\n",
    "    return im[r:r+target_r, c:c+target_c]\n",
    "\n",
    "# random crop to the original size\n",
    "def random_crop(x, r_pix=8):\n",
    "    \"\"\" Returns a random crop\"\"\"\n",
    "    r, c,*_ = x.shape\n",
    "    r, c,*_ = x.shape\n",
    "    c_pix = round(r_pix*c/r)\n",
    "    rand_r = random.uniform(0, 1)\n",
    "    rand_c = random.uniform(0, 1)\n",
    "    start_r = np.floor(2*rand_r*r_pix).astype(int)\n",
    "    start_c = np.floor(2*rand_c*c_pix).astype(int)\n",
    "    return crop(x, start_r, start_c, r-2*r_pix, c-2*c_pix)\n",
    "\n",
    "def center_crop(x, r_pix=8):\n",
    "    r, c,*_ = x.shape\n",
    "    c_pix = round(r_pix*c/r)\n",
    "    return crop(x, r_pix, c_pix, r-2*r_pix, c-2*c_pix)\n",
    "\n",
    "\n",
    "def rotate_cv(im, deg, mode=cv2.BORDER_REFLECT, interpolation=cv2.INTER_AREA):\n",
    "    \"\"\" Rotates an image by deg degrees\"\"\"\n",
    "    r,c,*_ = im.shape\n",
    "    M = cv2.getRotationMatrix2D((c/2,r/2),deg,1)\n",
    "    return cv2.warpAffine(im,M,(c,r), borderMode=mode, \n",
    "                          flags=cv2.WARP_FILL_OUTLIERS+interpolation)\n",
    "\n",
    "def normalize(im):\n",
    "    \"\"\"Normalizes images with Imagenet stats.\"\"\"\n",
    "    imagenet_stats = np.array([[0.485, 0.456, 0.406], [0.229, 0.224, 0.225]])\n",
    "    return (im - imagenet_stats[0])/imagenet_stats[1]"
   ]
  },
  {
   "cell_type": "markdown",
   "metadata": {},
   "source": [
    "### Sentence encoding utils"
   ]
  },
  {
   "cell_type": "code",
   "execution_count": 5,
   "metadata": {},
   "outputs": [],
   "source": [
    "vocab2index = pickle.load(open(PATH/'vocab2index.pkl', 'rb'))\n",
    "index2vocab = pickle.load(open(PATH/'index2vocab.pkl', 'rb'))"
   ]
  },
  {
   "cell_type": "code",
   "execution_count": 6,
   "metadata": {},
   "outputs": [],
   "source": [
    "re_br = re.compile(r'<\\s*br\\s*/?>', re.IGNORECASE)\n",
    "def sub_br(x): return re_br.sub(\"\\n\", x)\n",
    "\n",
    "my_tok = spacy.load('en')\n",
    "def spacy_tok(x): return [tok.text for tok in my_tok.tokenizer(sub_br(x))]\n",
    "\n",
    "def encode_sentence_no_padding(s, vocab2index):\n",
    "    x = spacy_tok(s)\n",
    "    return np.array([vocab2index.get(w, vocab2index['<unk>']) for w in x])"
   ]
  },
  {
   "cell_type": "code",
   "execution_count": 7,
   "metadata": {},
   "outputs": [
    {
     "data": {
      "text/plain": [
       "array([  11,  245,   19,   12,   62,   39,    6, 1957, 4476])"
      ]
     },
     "execution_count": 7,
     "metadata": {},
     "output_type": "execute_result"
    }
   ],
   "source": [
    "encode_sentence_no_padding('A boy and a bike in the forest.', vocab2index)"
   ]
  },
  {
   "cell_type": "markdown",
   "metadata": {},
   "source": [
    "### Data"
   ]
  },
  {
   "cell_type": "code",
   "execution_count": 8,
   "metadata": {},
   "outputs": [
    {
     "name": "stdout",
     "output_type": "stream",
     "text": [
      "loading annotations into memory...\n",
      "Done (t=1.08s)\n",
      "creating index...\n",
      "index created!\n",
      "loading annotations into memory...\n",
      "Done (t=0.29s)\n",
      "creating index...\n",
      "index created!\n"
     ]
    }
   ],
   "source": [
    "coco_train = get_caption_index(ANNOT_PATH, dataset='train')\n",
    "coco_val = get_caption_index(ANNOT_PATH, dataset='val')"
   ]
  },
  {
   "cell_type": "code",
   "execution_count": 9,
   "metadata": {},
   "outputs": [],
   "source": [
    "def get_df(coco_api, dataset, year=2017):\n",
    "    # dataset should be 'train' or 'val'\n",
    "    annot_keys = list(coco_api.anns.keys())\n",
    "    img_ids, img_paths, captions = [], [], []\n",
    "    for k in tqdm(annot_keys):\n",
    "        img_id = coco_api.anns[k]['image_id']\n",
    "        img_ids.append(coco_api.anns[k]['image_id'])\n",
    "        captions.append(coco_api.anns[k]['caption'])\n",
    "        filename = coco_api.loadImgs(img_id)[0]['file_name']\n",
    "        img_paths.append(f'{PATH}/{dataset}{year}_resized/{filename}')\n",
    "    df = pd.DataFrame({'img_id':img_ids, 'img_path':img_paths, 'caption':captions})\n",
    "    return df"
   ]
  },
  {
   "cell_type": "code",
   "execution_count": 10,
   "metadata": {},
   "outputs": [
    {
     "name": "stderr",
     "output_type": "stream",
     "text": [
      "100%|██████████| 591753/591753 [00:02<00:00, 289547.98it/s]\n",
      "100%|██████████| 25014/25014 [00:00<00:00, 270189.10it/s]\n"
     ]
    }
   ],
   "source": [
    "df_train = get_df(coco_train, 'train')\n",
    "df_val = get_df(coco_val, 'val')"
   ]
  },
  {
   "cell_type": "code",
   "execution_count": 11,
   "metadata": {},
   "outputs": [
    {
     "data": {
      "text/html": [
       "<div>\n",
       "<style scoped>\n",
       "    .dataframe tbody tr th:only-of-type {\n",
       "        vertical-align: middle;\n",
       "    }\n",
       "\n",
       "    .dataframe tbody tr th {\n",
       "        vertical-align: top;\n",
       "    }\n",
       "\n",
       "    .dataframe thead th {\n",
       "        text-align: right;\n",
       "    }\n",
       "</style>\n",
       "<table border=\"1\" class=\"dataframe\">\n",
       "  <thead>\n",
       "    <tr style=\"text-align: right;\">\n",
       "      <th></th>\n",
       "      <th>img_id</th>\n",
       "      <th>img_path</th>\n",
       "      <th>caption</th>\n",
       "    </tr>\n",
       "  </thead>\n",
       "  <tbody>\n",
       "    <tr>\n",
       "      <th>0</th>\n",
       "      <td>203564</td>\n",
       "      <td>data/train2017_resized/000000203564.jpg</td>\n",
       "      <td>A bicycle replica with a clock as the front wh...</td>\n",
       "    </tr>\n",
       "    <tr>\n",
       "      <th>1</th>\n",
       "      <td>322141</td>\n",
       "      <td>data/train2017_resized/000000322141.jpg</td>\n",
       "      <td>A room with blue walls and a white sink and door.</td>\n",
       "    </tr>\n",
       "    <tr>\n",
       "      <th>2</th>\n",
       "      <td>16977</td>\n",
       "      <td>data/train2017_resized/000000016977.jpg</td>\n",
       "      <td>A car that seems to be parked illegally behind...</td>\n",
       "    </tr>\n",
       "  </tbody>\n",
       "</table>\n",
       "</div>"
      ],
      "text/plain": [
       "   img_id                                 img_path  \\\n",
       "0  203564  data/train2017_resized/000000203564.jpg   \n",
       "1  322141  data/train2017_resized/000000322141.jpg   \n",
       "2   16977  data/train2017_resized/000000016977.jpg   \n",
       "\n",
       "                                             caption  \n",
       "0  A bicycle replica with a clock as the front wh...  \n",
       "1  A room with blue walls and a white sink and door.  \n",
       "2  A car that seems to be parked illegally behind...  "
      ]
     },
     "execution_count": 11,
     "metadata": {},
     "output_type": "execute_result"
    }
   ],
   "source": [
    "df_train.head(3)"
   ]
  },
  {
   "cell_type": "code",
   "execution_count": 12,
   "metadata": {},
   "outputs": [
    {
     "data": {
      "text/html": [
       "<div>\n",
       "<style scoped>\n",
       "    .dataframe tbody tr th:only-of-type {\n",
       "        vertical-align: middle;\n",
       "    }\n",
       "\n",
       "    .dataframe tbody tr th {\n",
       "        vertical-align: top;\n",
       "    }\n",
       "\n",
       "    .dataframe thead th {\n",
       "        text-align: right;\n",
       "    }\n",
       "</style>\n",
       "<table border=\"1\" class=\"dataframe\">\n",
       "  <thead>\n",
       "    <tr style=\"text-align: right;\">\n",
       "      <th></th>\n",
       "      <th>img_id</th>\n",
       "      <th>img_path</th>\n",
       "      <th>caption</th>\n",
       "    </tr>\n",
       "  </thead>\n",
       "  <tbody>\n",
       "    <tr>\n",
       "      <th>0</th>\n",
       "      <td>179765</td>\n",
       "      <td>data/val2017_resized/000000179765.jpg</td>\n",
       "      <td>A black Honda motorcycle parked in front of a ...</td>\n",
       "    </tr>\n",
       "    <tr>\n",
       "      <th>1</th>\n",
       "      <td>179765</td>\n",
       "      <td>data/val2017_resized/000000179765.jpg</td>\n",
       "      <td>A Honda motorcycle parked in a grass driveway</td>\n",
       "    </tr>\n",
       "    <tr>\n",
       "      <th>2</th>\n",
       "      <td>190236</td>\n",
       "      <td>data/val2017_resized/000000190236.jpg</td>\n",
       "      <td>An office cubicle with four different types of...</td>\n",
       "    </tr>\n",
       "  </tbody>\n",
       "</table>\n",
       "</div>"
      ],
      "text/plain": [
       "   img_id                               img_path  \\\n",
       "0  179765  data/val2017_resized/000000179765.jpg   \n",
       "1  179765  data/val2017_resized/000000179765.jpg   \n",
       "2  190236  data/val2017_resized/000000190236.jpg   \n",
       "\n",
       "                                             caption  \n",
       "0  A black Honda motorcycle parked in front of a ...  \n",
       "1      A Honda motorcycle parked in a grass driveway  \n",
       "2  An office cubicle with four different types of...  "
      ]
     },
     "execution_count": 12,
     "metadata": {},
     "output_type": "execute_result"
    }
   ],
   "source": [
    "df_val.head(3)"
   ]
  },
  {
   "cell_type": "code",
   "execution_count": 13,
   "metadata": {},
   "outputs": [],
   "source": [
    "pickle.dump(df_train, open(PATH/'df_train.pkl', 'wb'))\n",
    "pickle.dump(df_val, open(PATH/'df_val.pkl', 'wb'))"
   ]
  },
  {
   "cell_type": "code",
   "execution_count": 14,
   "metadata": {},
   "outputs": [
    {
     "data": {
      "image/png": "[encoded data removed]",
      "text/plain": [
       "<Figure size 432x288 with 1 Axes>"
      ]
     },
     "metadata": {
      "needs_background": "light"
     },
     "output_type": "display_data"
    }
   ],
   "source": [
    "img = read_image(df_train['img_path'][0])\n",
    "plt.imshow(img); plt.show()"
   ]
  },
  {
   "cell_type": "markdown",
   "metadata": {},
   "source": [
    "### Dataset"
   ]
  },
  {
   "cell_type": "code",
   "execution_count": 15,
   "metadata": {},
   "outputs": [],
   "source": [
    "class CocoDataset(Dataset):\n",
    "    def __init__(self, df, vocab2index, is_test=False, transform=False):\n",
    "        self.filepaths = df['img_path']\n",
    "        # Do the encoding on init so we don't have to do it in __getitem__\n",
    "        self.captions = self.get_encoded_captions(df['caption'], vocab2index)\n",
    "        self.transform = transform\n",
    "        self.is_test = is_test\n",
    "        self.transform = transform\n",
    "    \n",
    "    def get_encoded_captions(self, captions, vocab2index):\n",
    "        captions = list(captions)\n",
    "        enc_captions = []\n",
    "        for c in tqdm(captions):\n",
    "            indices = encode_sentence_no_padding(c, vocab2index)\n",
    "            indices = [vocab2index['<start>']] + list(indices) + [vocab2index['<end>']]\n",
    "            indices = np.array(indices)\n",
    "            enc_captions.append(indices)\n",
    "        return np.array(enc_captions)\n",
    "\n",
    "    def __len__(self):\n",
    "        return len(self.filepaths)\n",
    "\n",
    "    def __getitem__(self, index):\n",
    "        \"\"\"Return image and encoded caption\"\"\"\n",
    "        \n",
    "        # Get image, transform if specified\n",
    "        img = cv2.imread(self.filepaths[index]).astype(np.float32)\n",
    "        img = cv2.cvtColor(img, cv2.COLOR_BGR2RGB)/255\n",
    "        if self.transform:\n",
    "            rdeg = (np.random.random()-.50)*20\n",
    "            img = rotate_cv(img, rdeg)\n",
    "            img = random_crop(img)\n",
    "            if np.random.random() > 0.5: img = np.fliplr(img).copy()\n",
    "        else:\n",
    "            img = center_crop(img)\n",
    "        img = normalize(img)\n",
    "        img = np.rollaxis(img, 2)\n",
    "        \n",
    "        # Get encoded caption\n",
    "        caption = self.captions[index]\n",
    "        return img, caption"
   ]
  },
  {
   "cell_type": "code",
   "execution_count": 17,
   "metadata": {},
   "outputs": [],
   "source": [
    "# train_size = 200000  # TEMP\n",
    "# val_size = 10000  # TEMP"
   ]
  },
  {
   "cell_type": "code",
   "execution_count": 31,
   "metadata": {},
   "outputs": [
    {
     "name": "stderr",
     "output_type": "stream",
     "text": [
      "100%|██████████| 591753/591753 [02:40<00:00, 3678.48it/s]\n"
     ]
    }
   ],
   "source": [
    "train_ds = CocoDataset(df_train, vocab2index, transform=True)"
   ]
  },
  {
   "cell_type": "code",
   "execution_count": 32,
   "metadata": {},
   "outputs": [],
   "source": [
    "pickle.dump(train_ds, open(PATH/'train_ds.pkl', 'wb'))"
   ]
  },
  {
   "cell_type": "code",
   "execution_count": 33,
   "metadata": {},
   "outputs": [
    {
     "name": "stderr",
     "output_type": "stream",
     "text": [
      "100%|██████████| 25014/25014 [00:06<00:00, 3731.70it/s]\n"
     ]
    }
   ],
   "source": [
    "valid_ds = CocoDataset(df_val, vocab2index)"
   ]
  },
  {
   "cell_type": "code",
   "execution_count": 34,
   "metadata": {},
   "outputs": [],
   "source": [
    "pickle.dump(valid_ds, open(PATH/'valid_ds.pkl', 'wb'))"
   ]
  },
  {
   "cell_type": "code",
   "execution_count": 35,
   "metadata": {},
   "outputs": [],
   "source": [
    "train_ds = pickle.load(open(PATH/'train_ds.pkl', 'rb'))\n",
    "valid_ds = pickle.load(open(PATH/'valid_ds.pkl', 'rb'))"
   ]
  },
  {
   "cell_type": "markdown",
   "metadata": {},
   "source": [
    "### Collate function"
   ]
  },
  {
   "cell_type": "code",
   "execution_count": 36,
   "metadata": {},
   "outputs": [],
   "source": [
    "def collate_fn(data):\n",
    "    \"\"\"Creates mini-batch tensors from the list of tuples (sentences, labels).\n",
    "    \n",
    "    Need custom collate_fn because merging sequences (including padding) is not \n",
    "    supported in default. Sequences are padded to the maximum length of mini-batch \n",
    "    sequences (dynamic padding).\n",
    "    \n",
    "    Args:\n",
    "        data: list of tuple (sentence, label). \n",
    "            - list of word indices of variable length\n",
    "            - label, 0 or 1\n",
    "    Returns:\n",
    "        packed_batch: (PackedSequence), see torch.nn.utils.rnn.pack_padded_sequence\n",
    "        sencences: torch tensor of shape (batch_size, max_len).\n",
    "        labels: torch tensor of shape (batch_size, 1).\n",
    "        lengths: list; valid length for each padded sentence. \n",
    "    \"\"\"\n",
    "    # Sort a data list by sentences length (descending order).\n",
    "    data.sort(key=lambda x: len(x[1]), reverse=True)\n",
    "    images, captions = zip(*data)\n",
    "    \n",
    "    # Merge images\n",
    "    images = torch.Tensor(np.stack(images, 0))\n",
    "    \n",
    "    # Merge sentences\n",
    "    lengths = [len(s) for s in captions]\n",
    "    captions_padded = torch.zeros(len(captions), max(lengths)).long()\n",
    "    for i, c in enumerate(captions):\n",
    "        end = lengths[i]\n",
    "        captions_padded[i, :end] = torch.Tensor(c[:end])        \n",
    "    \n",
    "    return images, lengths, captions_padded"
   ]
  },
  {
   "cell_type": "code",
   "execution_count": 37,
   "metadata": {},
   "outputs": [],
   "source": [
    "# Sanity check\n",
    "\n",
    "batch_size = 5\n",
    "train_dl = DataLoader(train_ds, batch_size=batch_size, shuffle=True, collate_fn=collate_fn)\n",
    "valid_dl = DataLoader(valid_ds, batch_size=batch_size, collate_fn=collate_fn)"
   ]
  },
  {
   "cell_type": "code",
   "execution_count": 38,
   "metadata": {},
   "outputs": [
    {
     "data": {
      "text/plain": [
       "torch.Size([5, 3, 184, 184])"
      ]
     },
     "execution_count": 38,
     "metadata": {},
     "output_type": "execute_result"
    }
   ],
   "source": [
    "next(iter(train_dl))[0].shape"
   ]
  },
  {
   "cell_type": "markdown",
   "metadata": {},
   "source": [
    "## Models"
   ]
  },
  {
   "cell_type": "code",
   "execution_count": 39,
   "metadata": {},
   "outputs": [],
   "source": [
    "class Encoder(nn.Module):\n",
    "    def __init__(self, emb_dim):\n",
    "        super(Encoder, self).__init__()\n",
    "        resnet = models.resnet34(pretrained=True)\n",
    "        layers = list(resnet.children())[:8]\n",
    "        self.features1 = nn.Sequential(*layers[:6])  # Blocks 1-6\n",
    "        self.features2 = nn.Sequential(*layers[6:])  # Blocks 7-8\n",
    "        self.pool = nn.AdaptiveAvgPool2d((1,1))  # 1 pooling layer\n",
    "        self.linear = nn.Linear(resnet.fc.in_features, emb_dim)  # we have to pass this vector to LSTM\n",
    "        self.bn = nn.BatchNorm1d(emb_dim, momentum=0.01)\n",
    "        \n",
    "    def forward(self, x):\n",
    "        x = self.features1(x)  # pass through first 6 layers\n",
    "        x = self.features2(x)  # pass through last 2 layers\n",
    "        x = F.relu(x)  # activation\n",
    "        x = self.pool(x)\n",
    "        x = x.view(x.shape[0], -1)\n",
    "        x = self.linear(x)\n",
    "        x = self.bn(x)\n",
    "        return x"
   ]
  },
  {
   "cell_type": "code",
   "execution_count": 40,
   "metadata": {},
   "outputs": [],
   "source": [
    "class Decoder(nn.Module):\n",
    "    def __init__(self, emb_dim, vocab_size, hidden_dim, num_layers,\n",
    "                 glove_weights=None, max_seq_length=20):\n",
    "        \"\"\"Set the hyper-parameters and build the layers.\"\"\"\n",
    "        super(Decoder, self).__init__()\n",
    "        self.emb = nn.Embedding(vocab_size, emb_dim, padding_idx=0)\n",
    "        if glove_weights is not None:\n",
    "            self.emb.weight.data.copy_(torch.from_numpy(glove_weights))\n",
    "#             self.emb.weight.requires_grad = False  # freeze embeddings\n",
    "        self.lstm = nn.LSTM(emb_dim, hidden_dim, num_layers, batch_first=True)\n",
    "        self.linear = nn.Linear(hidden_dim, vocab_size)\n",
    "        self.max_seg_length = max_seq_length\n",
    "        \n",
    "    def forward(self, features, captions, lengths):\n",
    "        \"\"\"Decode image feature vectors and generates captions.\"\"\"\n",
    "        embeddings = self.emb(captions)\n",
    "        embeddings = torch.cat((features.unsqueeze(1), embeddings), 1)\n",
    "        packed = pack_padded_sequence(embeddings, lengths, batch_first=True) \n",
    "        hidden, _ = self.lstm(packed)\n",
    "        outputs = self.linear(hidden[0])\n",
    "#         out_pack, (ht, ct) = self.lstm(packed)\n",
    "#         outputs = self.linear(ht[-1])\n",
    "        return outputs\n",
    "    \n",
    "    def sample(self, features, states=None):\n",
    "        \"\"\"Generate captions for given image features using greedy search.\"\"\"\n",
    "        sampled_ids = []\n",
    "        inputs = features.unsqueeze(1)\n",
    "        for i in range(self.max_seg_length):\n",
    "            hiddens, states = self.lstm(inputs, states)          # hiddens: (batch_size, 1, hidden_dim)\n",
    "            outputs = self.linear(hiddens.squeeze(1))            # outputs:  (batch_size, vocab_size)\n",
    "            _, predicted = outputs.max(1)                        # predicted: (batch_size)\n",
    "            sampled_ids.append(predicted)\n",
    "            inputs = self.emb(predicted)                       # inputs: (batch_size, emb_dim)\n",
    "            inputs = inputs.unsqueeze(1)                         # inputs: (batch_size, 1, emb_dim)\n",
    "        sampled_ids = torch.stack(sampled_ids, 1)                # sampled_ids: (batch_size, max_seq_length)\n",
    "        return sampled_ids"
   ]
  },
  {
   "cell_type": "markdown",
   "metadata": {},
   "source": [
    "## Training"
   ]
  },
  {
   "cell_type": "code",
   "execution_count": 41,
   "metadata": {},
   "outputs": [],
   "source": [
    "sf = SmoothingFunction()"
   ]
  },
  {
   "cell_type": "code",
   "execution_count": 42,
   "metadata": {},
   "outputs": [],
   "source": [
    "def save_model(m, p): torch.save(m.state_dict(), p)\n",
    "    \n",
    "def load_model(m, p): m.load_state_dict(torch.load(p))"
   ]
  },
  {
   "cell_type": "code",
   "execution_count": 43,
   "metadata": {},
   "outputs": [],
   "source": [
    "def val_metrics(encoder, decoder, valid_dl, debug=False):\n",
    "    encoder.eval()\n",
    "    decoder.eval()\n",
    "    sum_loss = 0\n",
    "    sum_bleu = 0\n",
    "    bleu_scores = []\n",
    "    total = 0\n",
    "    \n",
    "    for images, lengths, captions in valid_dl:\n",
    "        batch_size = len(lengths)\n",
    "        images = images.cuda().float()\n",
    "        captions = captions.cuda()\n",
    "        labels = pack_padded_sequence(captions, lengths, batch_first=True)[0]\n",
    "        \n",
    "        # Forward\n",
    "        features = encoder(images)  # Get image features (last layer output of encoder)\n",
    "        out = decoder(features, captions, lengths)  # Get predicted words\n",
    "        \n",
    "        # Compute BLEU-4 score\n",
    "        features = encoder(images)  # get feature vectors\n",
    "        sampled_ids = decoder.sample(features).cpu().numpy()\n",
    "        predicted_words = np.array([np.array([index2vocab[idx] for idx in pred]) for pred in sampled_ids])\n",
    "        captions = captions.cpu().numpy()\n",
    "        actual_words = np.array([np.array([index2vocab[idx] for idx in c]) for c in captions])\n",
    "\n",
    "        for i, (actual, predicted) in enumerate(zip(actual_words, predicted_words)):\n",
    "            bleu_single = sentence_bleu(list(actual), list(predicted),\n",
    "                                       smoothing_function=sf.method1)\n",
    "            #print(bleu_single)\n",
    "            sum_bleu += bleu_single\n",
    "            bleu_scores.append(bleu_single)\n",
    "        \n",
    "#         if debug:\n",
    "#             actual = actual_words[-1]\n",
    "#             predicted = predicted_words[-1]\n",
    "#             bleu_single = sentence_bleu(list(actual), list(predicted),\n",
    "#                           smoothing_function=sf.method1)\n",
    "#             print(f'Actual:\\n{list(actual)}')\n",
    "#             print(f'Predicted:\\n{list(predicted)}')\n",
    "#             print(f'This BLEU: {bleu_single}')\n",
    "#             print('-' * 50)\n",
    "        \n",
    "        loss = F.cross_entropy(out, labels)\n",
    "        sum_loss += batch_size * (loss.item())\n",
    "        total += batch_size\n",
    "\n",
    "    if debug:\n",
    "        #print(f'BLEU score max: {bleu_scores}, BLEU score min: {bleu_scores}')\n",
    "        print(f'BLEU score max: {np.max(bleu_scores)}, BLEU score min: {np.min(bleu_scores)}')\n",
    "        print(f'Sum BLEU: {round(sum_bleu,10)}, Total: {total}, Avg BLEU: {round(sum_bleu/total,10)}')\n",
    "    return sum_loss/total, sum_bleu/total"
   ]
  },
  {
   "cell_type": "code",
   "execution_count": 47,
   "metadata": {},
   "outputs": [],
   "source": [
    "def train_epochs(encoder, decoder, optimizer, train_dl, valid_dl, epochs=10):\n",
    "    for i in range(epochs):\n",
    "        encoder.train()\n",
    "        decoder.train()\n",
    "        sum_loss = 0.0\n",
    "        total = 0\n",
    "        curr_loss = np.Inf\n",
    "        num_batches = len(train_dl)\n",
    "        \n",
    "        for i, (images, lengths, captions) in enumerate(tqdm(train_dl)):\n",
    "            batch_size = len(lengths)\n",
    "            images = images.cuda().float()\n",
    "            captions = captions.cuda()\n",
    "            labels = pack_padded_sequence(captions, lengths, batch_first=True)[0]\n",
    "            \n",
    "            # Forward\n",
    "            features = encoder(images)  # Get image features (last layer output of encoder)\n",
    "            out = decoder(features, captions, lengths)  # Get predicted words\n",
    "            \n",
    "            # Loss, backward\n",
    "            loss = F.cross_entropy(out, labels)\n",
    "            decoder.zero_grad()\n",
    "            encoder.zero_grad()\n",
    "            loss.backward()\n",
    "            optimizer.step()\n",
    "            \n",
    "            # Tally\n",
    "            total += batch_size\n",
    "            sum_loss += loss.item()\n",
    "            \n",
    "#             if i % 100 == 0:\n",
    "#                 print(f'Processed batch {i}/{num_batches}')\n",
    "            \n",
    "        # Metrics\n",
    "        train_loss = sum_loss / total\n",
    "        val_loss, val_bleu = val_metrics(encoder, decoder, valid_dl, debug=True)\n",
    "        print(val_bleu)\n",
    "        print(\"train_loss %.3f val_loss %.3f val_bleu %.10f\" % (train_loss, val_loss, val_bleu))\n",
    "        if val_loss < curr_loss:\n",
    "            curr_loss = val_loss\n",
    "            enc_path = f\"{PATH}/models/model_encoder_resnet34_bleu_{round(val_bleu, 10)}.pth\"\n",
    "            dec_path = f\"{PATH}/models/model_decoder_bleu_{round(val_bleu, 10)}.pth\"\n",
    "            save_model(encoder, enc_path)\n",
    "            save_model(decoder, dec_path)\n",
    "            print(enc_path, dec_path)\n",
    "            \n",
    "    return sum_loss / total"
   ]
  },
  {
   "cell_type": "code",
   "execution_count": 48,
   "metadata": {},
   "outputs": [],
   "source": [
    "glove_weights = pickle.load(open(PATH/'pretrained_weights.pkl', 'rb'))\n",
    "embed_dim = 50  # we're using glove 50d embeddings\n",
    "vocab_size = len(vocab2index)\n",
    "hidden_dim = 20\n",
    "num_layers = 2\n",
    "\n",
    "encoder = Encoder(embed_dim).cuda()\n",
    "decoder = Decoder(embed_dim, vocab_size, hidden_dim, num_layers,\n",
    "                  glove_weights=glove_weights).cuda()\n",
    "\n",
    "batch_size = 32\n",
    "train_dl = DataLoader(train_ds, batch_size=batch_size, shuffle=True,\n",
    "                      collate_fn=collate_fn, num_workers=2)\n",
    "valid_dl = DataLoader(valid_ds, batch_size=batch_size,\n",
    "                      collate_fn=collate_fn, num_workers=2)\n",
    "\n",
    "params = list(decoder.parameters()) + list(encoder.linear.parameters()) + list(encoder.bn.parameters())\n",
    "optimizer = torch.optim.Adam(params, lr=0.01)"
   ]
  },
  {
   "cell_type": "code",
   "execution_count": 49,
   "metadata": {},
   "outputs": [
    {
     "name": "stderr",
     "output_type": "stream",
     "text": [
      "100%|██████████| 18493/18493 [1:27:50<00:00,  3.51it/s]\n",
      "  0%|          | 0/18493 [00:00<?, ?it/s]"
     ]
    },
    {
     "name": "stdout",
     "output_type": "stream",
     "text": [
      "BLEU score max: 0.014400124446705301, BLEU score min: 0.0\n",
      "Sum BLEU: 293.4605933234, Total: 25014, Avg BLEU: 0.0117318539\n",
      "0.011731853894755288\n",
      "train_loss 0.101 val_loss 2.885 val_bleu 0.0117318539\n",
      "data/models/model_encoder_resnet34_bleu_0.0117318539.pth data/models/model_decoder_bleu_0.0117318539.pth\n"
     ]
    },
    {
     "name": "stderr",
     "output_type": "stream",
     "text": [
      "100%|██████████| 18493/18493 [1:27:51<00:00,  3.51it/s]\n",
      "  0%|          | 0/18493 [00:00<?, ?it/s]"
     ]
    },
    {
     "name": "stdout",
     "output_type": "stream",
     "text": [
      "BLEU score max: 0.014400124446705301, BLEU score min: 0.0\n",
      "Sum BLEU: 296.1709627859, Total: 25014, Avg BLEU: 0.011840208\n",
      "0.011840207994957153\n",
      "train_loss 0.089 val_loss 2.811 val_bleu 0.0118402080\n",
      "data/models/model_encoder_resnet34_bleu_0.011840208.pth data/models/model_decoder_bleu_0.011840208.pth\n"
     ]
    },
    {
     "name": "stderr",
     "output_type": "stream",
     "text": [
      "100%|██████████| 18493/18493 [1:27:26<00:00,  3.52it/s]\n",
      "  0%|          | 0/18493 [00:00<?, ?it/s]"
     ]
    },
    {
     "name": "stdout",
     "output_type": "stream",
     "text": [
      "BLEU score max: 0.014400124446705301, BLEU score min: 0.0\n",
      "Sum BLEU: 292.7488071941, Total: 25014, Avg BLEU: 0.0117033984\n",
      "0.011703398384667808\n",
      "train_loss 0.087 val_loss 2.788 val_bleu 0.0117033984\n",
      "data/models/model_encoder_resnet34_bleu_0.0117033984.pth data/models/model_decoder_bleu_0.0117033984.pth\n"
     ]
    },
    {
     "name": "stderr",
     "output_type": "stream",
     "text": [
      "100%|██████████| 18493/18493 [1:27:21<00:00,  3.53it/s]\n",
      "  0%|          | 0/18493 [00:00<?, ?it/s]"
     ]
    },
    {
     "name": "stdout",
     "output_type": "stream",
     "text": [
      "BLEU score max: 0.014400124446705301, BLEU score min: 0.0\n",
      "Sum BLEU: 295.0610008858, Total: 25014, Avg BLEU: 0.0117958344\n",
      "0.01179583436818481\n",
      "train_loss 0.087 val_loss 2.772 val_bleu 0.0117958344\n",
      "data/models/model_encoder_resnet34_bleu_0.0117958344.pth data/models/model_decoder_bleu_0.0117958344.pth\n"
     ]
    },
    {
     "name": "stderr",
     "output_type": "stream",
     "text": [
      "100%|██████████| 18493/18493 [1:27:20<00:00,  3.53it/s]\n",
      "  0%|          | 0/18493 [00:00<?, ?it/s]"
     ]
    },
    {
     "name": "stdout",
     "output_type": "stream",
     "text": [
      "BLEU score max: 0.014400124446705301, BLEU score min: 0.0\n",
      "Sum BLEU: 295.5888108371, Total: 25014, Avg BLEU: 0.0118169349\n",
      "0.011816934949911971\n",
      "train_loss 0.086 val_loss 2.764 val_bleu 0.0118169349\n",
      "data/models/model_encoder_resnet34_bleu_0.0118169349.pth data/models/model_decoder_bleu_0.0118169349.pth\n"
     ]
    },
    {
     "name": "stderr",
     "output_type": "stream",
     "text": [
      "100%|██████████| 18493/18493 [1:27:22<00:00,  3.53it/s]\n",
      "  0%|          | 0/18493 [00:00<?, ?it/s]"
     ]
    },
    {
     "name": "stdout",
     "output_type": "stream",
     "text": [
      "BLEU score max: 0.014400124446705301, BLEU score min: 0.0\n",
      "Sum BLEU: 293.7740055824, Total: 25014, Avg BLEU: 0.0117443834\n",
      "0.011744383368607928\n",
      "train_loss 0.086 val_loss 2.753 val_bleu 0.0117443834\n",
      "data/models/model_encoder_resnet34_bleu_0.0117443834.pth data/models/model_decoder_bleu_0.0117443834.pth\n"
     ]
    },
    {
     "name": "stderr",
     "output_type": "stream",
     "text": [
      "100%|██████████| 18493/18493 [1:27:22<00:00,  3.53it/s]\n",
      "  0%|          | 0/18493 [00:00<?, ?it/s]"
     ]
    },
    {
     "name": "stdout",
     "output_type": "stream",
     "text": [
      "BLEU score max: 0.014400124446705301, BLEU score min: 0.0\n",
      "Sum BLEU: 294.4602420943, Total: 25014, Avg BLEU: 0.0117718175\n",
      "0.011771817465989138\n",
      "train_loss 0.086 val_loss 2.751 val_bleu 0.0117718175\n",
      "data/models/model_encoder_resnet34_bleu_0.0117718175.pth data/models/model_decoder_bleu_0.0117718175.pth\n"
     ]
    },
    {
     "name": "stderr",
     "output_type": "stream",
     "text": [
      "100%|██████████| 18493/18493 [1:27:23<00:00,  3.53it/s]\n",
      "  0%|          | 0/18493 [00:00<?, ?it/s]"
     ]
    },
    {
     "name": "stdout",
     "output_type": "stream",
     "text": [
      "BLEU score max: 0.014400124446705301, BLEU score min: 0.0\n",
      "Sum BLEU: 294.9267636118, Total: 25014, Avg BLEU: 0.0117904679\n",
      "0.011790467882457375\n",
      "train_loss 0.086 val_loss 2.746 val_bleu 0.0117904679\n",
      "data/models/model_encoder_resnet34_bleu_0.0117904679.pth data/models/model_decoder_bleu_0.0117904679.pth\n"
     ]
    },
    {
     "name": "stderr",
     "output_type": "stream",
     "text": [
      "100%|██████████| 18493/18493 [1:27:31<00:00,  3.52it/s]\n",
      "  0%|          | 0/18493 [00:00<?, ?it/s]"
     ]
    },
    {
     "name": "stdout",
     "output_type": "stream",
     "text": [
      "BLEU score max: 0.014400124446705301, BLEU score min: 0.0\n",
      "Sum BLEU: 294.7227134259, Total: 25014, Avg BLEU: 0.0117823104\n",
      "0.011782310443189115\n",
      "train_loss 0.086 val_loss 2.753 val_bleu 0.0117823104\n",
      "data/models/model_encoder_resnet34_bleu_0.0117823104.pth data/models/model_decoder_bleu_0.0117823104.pth\n"
     ]
    },
    {
     "name": "stderr",
     "output_type": "stream",
     "text": [
      "100%|██████████| 18493/18493 [1:27:20<00:00,  3.53it/s]\n"
     ]
    },
    {
     "name": "stdout",
     "output_type": "stream",
     "text": [
      "BLEU score max: 0.014400124446705301, BLEU score min: 0.0\n",
      "Sum BLEU: 294.7251777582, Total: 25014, Avg BLEU: 0.011782409\n",
      "0.011782408961310458\n",
      "train_loss 0.085 val_loss 2.749 val_bleu 0.0117824090\n",
      "data/models/model_encoder_resnet34_bleu_0.011782409.pth data/models/model_decoder_bleu_0.011782409.pth\n"
     ]
    },
    {
     "data": {
      "text/plain": [
       "0.08545088111516544"
      ]
     },
     "execution_count": 49,
     "metadata": {},
     "output_type": "execute_result"
    }
   ],
   "source": [
    "train_epochs(encoder, decoder, optimizer, train_dl, valid_dl) #lr 0.01 batch_size 32"
   ]
  },
  {
   "cell_type": "markdown",
   "metadata": {},
   "source": [
    "---\n",
    "### Scratch"
   ]
  },
  {
   "cell_type": "code",
   "execution_count": 40,
   "metadata": {},
   "outputs": [
    {
     "data": {
      "text/plain": [
       "(torch.Size([856, 24182]), torch.Size([856]), torch.Size([21]))"
      ]
     },
     "execution_count": 40,
     "metadata": {},
     "output_type": "execute_result"
    }
   ],
   "source": [
    "# Scratch\n",
    "\n",
    "batch = next(iter(train_dl))\n",
    "images, lengths, captions = batch\n",
    "\n",
    "images = images.cuda()\n",
    "captions = captions.cuda()\n",
    "\n",
    "features = encoder(images.cuda())\n",
    "out = decoder(features, captions, lengths) \n",
    "pack = pack_padded_sequence(captions, lengths, batch_first=True)\n",
    "\n",
    "F.cross_entropy(out, pack[0])\n",
    "\n",
    "out.shape, pack[0].shape, pack[1].shape"
   ]
  },
  {
   "cell_type": "code",
   "execution_count": 157,
   "metadata": {},
   "outputs": [],
   "source": [
    "# Calculating BLEU scores - example\n",
    "batch_size = 5\n",
    "train_dl = DataLoader(train_ds, batch_size=batch_size, shuffle=True, collate_fn=collate_fn)\n",
    "valid_dl = DataLoader(valid_ds, batch_size=batch_size, collate_fn=collate_fn)"
   ]
  },
  {
   "cell_type": "code",
   "execution_count": 159,
   "metadata": {},
   "outputs": [],
   "source": [
    "images, lengths, captions = next(iter(train_dl))\n",
    "images = images.cuda().float()\n",
    "captions = captions.cuda()"
   ]
  },
  {
   "cell_type": "code",
   "execution_count": 160,
   "metadata": {},
   "outputs": [],
   "source": [
    "features = encoder(images)  # get feature vectors\n",
    "sampled_ids = decoder.sample(features).cpu().numpy()\n",
    "predicted_words = np.array([np.array([index2vocab[idx] for idx in pred]) for pred in sampled_ids])\n",
    "captions = captions.cpu().numpy()\n",
    "actual_words = np.array([np.array([index2vocab[idx] for idx in c]) for c in captions])"
   ]
  },
  {
   "cell_type": "code",
   "execution_count": 162,
   "metadata": {},
   "outputs": [
    {
     "data": {
      "text/plain": [
       "array([['<end>', '.', '.', '.', '.', '.', '.', '.', '.', '.', '.', '.',\n",
       "        '.', '.', '.', '.', '.', '.', '.', '.'],\n",
       "       ['four', '.', '.', '.', '.', '.', '.', '.', '.', '.', '.', '.',\n",
       "        '.', '.', '.', '.', '.', '.', '.', '.'],\n",
       "       ['<end>', '.', '.', '.', '.', '.', '.', '.', '.', '.', '.', '.',\n",
       "        '.', '.', '.', '.', '.', '.', '.', '.'],\n",
       "       ['<end>', '.', '.', '.', '.', '.', '.', '.', '.', '.', '.', '.',\n",
       "        '.', '.', '.', '.', '.', '.', '.', '.'],\n",
       "       ['people', '.', '.', '.', '.', '.', '.', '.', '.', '.', '.', '.',\n",
       "        '.', '.', '.', '.', '.', '.', '.', '.']], dtype='<U6')"
      ]
     },
     "execution_count": 162,
     "metadata": {},
     "output_type": "execute_result"
    }
   ],
   "source": [
    "predicted_words"
   ]
  },
  {
   "cell_type": "code",
   "execution_count": 161,
   "metadata": {},
   "outputs": [
    {
     "data": {
      "text/plain": [
       "array([['<start>', 'Two', 'silver', 'motorcycles', 'on', 'a', 'parking',\n",
       "        'lot', 'with', 'people', 'in', 'the', 'background', '.', '<end>'],\n",
       "       ['<start>', 'A', 'bathroom', 'with', 'a', 'toilet', 'and', 'a',\n",
       "        'bathtub', 'with', 'a', 'safety', 'rail', '.', '<end>'],\n",
       "       ['<start>', 'A', 'white', 'cat', 'sits', 'on', 'the', 'floor',\n",
       "        'beside', 'a', 'brown', 'towel', '.', '<end>', '<pad>'],\n",
       "       ['<start>', 'Motorcycle', ',', 'automobile', 'and', 'pedestrian',\n",
       "        'traffic', 'on', 'a', 'city', 'street', '.', '<end>', '<pad>',\n",
       "        '<pad>'],\n",
       "       ['<start>', 'A', 'corner', 'in', 'a', 'kitchen', 'with', 'many',\n",
       "        'potted', 'plants', '.', '<end>', '<pad>', '<pad>', '<pad>']],\n",
       "      dtype='<U11')"
      ]
     },
     "execution_count": 161,
     "metadata": {},
     "output_type": "execute_result"
    }
   ],
   "source": [
    "actual_words"
   ]
  },
  {
   "cell_type": "code",
   "execution_count": 172,
   "metadata": {},
   "outputs": [
    {
     "data": {
      "text/plain": [
       "35.254"
      ]
     },
     "execution_count": 172,
     "metadata": {},
     "output_type": "execute_result"
    }
   ],
   "source": [
    "sf = SmoothingFunction()\n",
    "bleu =sentence_bleu(list(actual_words[0]), list(predicted_words[0]),\n",
    "              smoothing_function=sf.method1)\n",
    "round(35.2535, 3)"
   ]
  },
  {
   "cell_type": "code",
   "execution_count": null,
   "metadata": {},
   "outputs": [],
   "source": []
  }
 ],
 "metadata": {
  "kernelspec": {
   "display_name": "Environment (conda_pytorch_p36)",
   "language": "python",
   "name": "conda_pytorch_p36"
  },
  "language_info": {
   "codemirror_mode": {
    "name": "ipython",
    "version": 3
   },
   "file_extension": ".py",
   "mimetype": "text/x-python",
   "name": "python",
   "nbconvert_exporter": "python",
   "pygments_lexer": "ipython3",
   "version": "3.6.10"
  }
 },
 "nbformat": 4,
 "nbformat_minor": 4
}
